{
 "cells": [
  {
   "cell_type": "markdown",
   "id": "97bc08f1-632a-41c7-b09b-ac1a65ac146d",
   "metadata": {
    "jp-MarkdownHeadingCollapsed": true,
    "tags": []
   },
   "source": [
    "### ***Basics***"
   ]
  },
  {
   "cell_type": "markdown",
   "id": "892ac7c5-8b58-4e42-9656-fdad668aef20",
   "metadata": {
    "tags": []
   },
   "source": [
    "<br> \n",
    "\n",
    "> ***Create a numpy array***"
   ]
  },
  {
   "cell_type": "code",
   "execution_count": 1,
   "id": "07626444-7c7b-4866-a781-970eb86f5028",
   "metadata": {
    "tags": []
   },
   "outputs": [],
   "source": [
    "import numpy as np"
   ]
  },
  {
   "cell_type": "code",
   "execution_count": 2,
   "id": "e24b0a1f-e42d-4021-b99c-b63d36c3c083",
   "metadata": {
    "tags": []
   },
   "outputs": [],
   "source": [
    "a = np.array([1,2,3,4,5])\n",
    "b = arr2 = np.array([[9.0,8.0,7.0], [6.0,5.0,4.0]])"
   ]
  },
  {
   "cell_type": "code",
   "execution_count": 3,
   "id": "d8fdead4-1cb1-48e5-b508-5c1be9d82871",
   "metadata": {
    "tags": []
   },
   "outputs": [
    {
     "name": "stdout",
     "output_type": "stream",
     "text": [
      "[1 2 3 4 5]\n"
     ]
    }
   ],
   "source": [
    "print(a)"
   ]
  },
  {
   "cell_type": "code",
   "execution_count": 4,
   "id": "98314879-99e6-4d12-88d8-01d5bea367fe",
   "metadata": {
    "tags": []
   },
   "outputs": [
    {
     "name": "stdout",
     "output_type": "stream",
     "text": [
      "[[9. 8. 7.]\n",
      " [6. 5. 4.]]\n"
     ]
    }
   ],
   "source": [
    "print(b)"
   ]
  },
  {
   "cell_type": "markdown",
   "id": "19a60795-219d-4e8b-b992-7181a3f4ffd1",
   "metadata": {},
   "source": [
    "---\n",
    "\n",
    "<br>\n",
    "\n",
    "> ***Get Dimensions***"
   ]
  },
  {
   "cell_type": "code",
   "execution_count": 5,
   "id": "ae49bf92-5641-4e89-812a-7a781dba5a38",
   "metadata": {
    "tags": []
   },
   "outputs": [
    {
     "name": "stdout",
     "output_type": "stream",
     "text": [
      "1\n",
      "2\n"
     ]
    }
   ],
   "source": [
    "print(a.ndim)\n",
    "print(b.ndim)"
   ]
  },
  {
   "cell_type": "markdown",
   "id": "9e003704-99bf-4913-b0e6-3e641fda59ce",
   "metadata": {},
   "source": [
    "---\n",
    "\n",
    "<br>\n",
    "\n",
    "> ***Get shape***"
   ]
  },
  {
   "cell_type": "code",
   "execution_count": 6,
   "id": "364831d5-4c13-4db4-a997-07a7b1bc106e",
   "metadata": {
    "tags": []
   },
   "outputs": [
    {
     "name": "stdout",
     "output_type": "stream",
     "text": [
      "(5,)\n",
      "(2, 3)\n"
     ]
    }
   ],
   "source": [
    "print(a.shape)\n",
    "print(b.shape)"
   ]
  },
  {
   "cell_type": "markdown",
   "id": "d807a269-b975-4015-b601-6ed43420aec8",
   "metadata": {},
   "source": [
    "---\n",
    "\n",
    "<br>\n",
    "\n",
    "> ***Get Data Type***"
   ]
  },
  {
   "cell_type": "code",
   "execution_count": 7,
   "id": "77c1dfd2-067c-406d-85a8-089893c2dda3",
   "metadata": {
    "tags": []
   },
   "outputs": [
    {
     "name": "stdout",
     "output_type": "stream",
     "text": [
      "int64\n",
      "float64\n"
     ]
    }
   ],
   "source": [
    "print(a.dtype)\n",
    "print(b.dtype)"
   ]
  },
  {
   "cell_type": "markdown",
   "id": "19768bbb-7a24-4440-8d08-cba46fd9609b",
   "metadata": {},
   "source": [
    "---\n",
    "\n",
    "<br>\n",
    "\n",
    "> ***Change the type of an array***"
   ]
  },
  {
   "cell_type": "code",
   "execution_count": 8,
   "id": "da2e7fc2-2131-4c00-9a98-0eecb39ed6bb",
   "metadata": {
    "tags": []
   },
   "outputs": [
    {
     "name": "stdout",
     "output_type": "stream",
     "text": [
      "int16\n"
     ]
    }
   ],
   "source": [
    "c = np.array([1,2,3], dtype='int16')\n",
    "print(c.dtype)"
   ]
  },
  {
   "cell_type": "markdown",
   "id": "e1743090-8803-4a7a-a52f-45a1213d4acc",
   "metadata": {},
   "source": [
    "---\n",
    "\n",
    "<br>\n",
    "\n",
    "> ***Get size of an array item (in bytes)***"
   ]
  },
  {
   "cell_type": "code",
   "execution_count": 9,
   "id": "43b4fbb5-8074-44c1-b345-e0b1c10e50a2",
   "metadata": {
    "tags": []
   },
   "outputs": [
    {
     "name": "stdout",
     "output_type": "stream",
     "text": [
      "8\n",
      "8\n",
      "2\n"
     ]
    }
   ],
   "source": [
    "print(a.itemsize)\n",
    "print(b.itemsize)\n",
    "print(c.itemsize)"
   ]
  },
  {
   "cell_type": "markdown",
   "id": "e7a1e9dd-b33c-4ecc-9b59-df3e28921c61",
   "metadata": {},
   "source": [
    "---\n",
    "\n",
    "<br>\n",
    "\n",
    "> ***Number of elements***"
   ]
  },
  {
   "cell_type": "code",
   "execution_count": 10,
   "id": "82ac5607-ddc3-41df-be26-08c0d8e9ff82",
   "metadata": {
    "tags": []
   },
   "outputs": [
    {
     "name": "stdout",
     "output_type": "stream",
     "text": [
      "5\n",
      "6\n",
      "3\n"
     ]
    }
   ],
   "source": [
    "print(a.size)\n",
    "print(b.size)\n",
    "print(c.size)"
   ]
  },
  {
   "cell_type": "markdown",
   "id": "69d912ae-6974-404a-a704-08287dcc776d",
   "metadata": {},
   "source": [
    "---\n",
    "\n",
    "<br>\n",
    "\n",
    "> ***Total size (in bytes)***"
   ]
  },
  {
   "cell_type": "code",
   "execution_count": 11,
   "id": "d245a1a5-ea9a-445d-b885-45c253eb11ca",
   "metadata": {
    "tags": []
   },
   "outputs": [
    {
     "name": "stdout",
     "output_type": "stream",
     "text": [
      "40\n",
      "48\n",
      "6\n"
     ]
    }
   ],
   "source": [
    "print(a.size * a.itemsize)\n",
    "print(b.size * b.itemsize)\n",
    "print(c.size * c.itemsize)"
   ]
  },
  {
   "cell_type": "code",
   "execution_count": 12,
   "id": "d1b81ee8-f7d4-4d30-934c-f6273c5c38a6",
   "metadata": {
    "tags": []
   },
   "outputs": [
    {
     "name": "stdout",
     "output_type": "stream",
     "text": [
      "40\n",
      "48\n",
      "6\n"
     ]
    }
   ],
   "source": [
    "print(a.nbytes)\n",
    "print(b.nbytes)\n",
    "print(c.nbytes)"
   ]
  },
  {
   "cell_type": "markdown",
   "id": "2bedc14b-3b92-49c4-a8ed-00963b620c9b",
   "metadata": {},
   "source": [
    "---\n",
    "\n",
    "<br>"
   ]
  },
  {
   "cell_type": "markdown",
   "id": "de4d46c3-2194-4fb9-b3f7-70f09c256baf",
   "metadata": {
    "jp-MarkdownHeadingCollapsed": true,
    "tags": []
   },
   "source": [
    "### ***Accessing - Changing specific elements, rows, columns, etc***"
   ]
  },
  {
   "cell_type": "markdown",
   "id": "4862085b-e53c-4e55-82c8-58d13c372371",
   "metadata": {},
   "source": [
    "<br>\n",
    "\n",
    "> ***Get an element***"
   ]
  },
  {
   "cell_type": "code",
   "execution_count": 13,
   "id": "9b5e14e4-b74e-430a-990c-b7ebada40e8f",
   "metadata": {
    "tags": []
   },
   "outputs": [],
   "source": [
    "a = np.array([[1,2,3,4,5,6,7],[8,9,10,11,12,13,14]])"
   ]
  },
  {
   "cell_type": "code",
   "execution_count": 14,
   "id": "baf09022-8d91-41c7-b444-54cde21df013",
   "metadata": {
    "tags": []
   },
   "outputs": [
    {
     "name": "stdout",
     "output_type": "stream",
     "text": [
      "13\n"
     ]
    }
   ],
   "source": [
    "print(a[1,5])"
   ]
  },
  {
   "cell_type": "markdown",
   "id": "b283dfc8-36b9-435c-9ff3-197e2dc8802c",
   "metadata": {},
   "source": [
    "- *similar as lists, you can use negative indexes to start from the end*"
   ]
  },
  {
   "cell_type": "code",
   "execution_count": 15,
   "id": "fb2466cb-d836-42db-b402-dd4f0a850435",
   "metadata": {
    "tags": []
   },
   "outputs": [
    {
     "name": "stdout",
     "output_type": "stream",
     "text": [
      "13\n"
     ]
    }
   ],
   "source": [
    "print(a[1,-2])"
   ]
  },
  {
   "cell_type": "markdown",
   "id": "0b322984-d7f0-4b00-b254-f366a475bca9",
   "metadata": {},
   "source": [
    "---\n",
    "\n",
    "<br>\n",
    "\n",
    "> ***Get a row***"
   ]
  },
  {
   "cell_type": "code",
   "execution_count": 16,
   "id": "8708f249-8c69-47ce-b8af-983228f59890",
   "metadata": {
    "tags": []
   },
   "outputs": [
    {
     "name": "stdout",
     "output_type": "stream",
     "text": [
      "[1 2 3 4 5 6 7]\n"
     ]
    }
   ],
   "source": [
    "print(a[0,:])"
   ]
  },
  {
   "cell_type": "markdown",
   "id": "1d20f3ac-c057-457e-95f1-b3ad29c57bee",
   "metadata": {},
   "source": [
    "---\n",
    "\n",
    "<br>\n",
    "\n",
    "> ***Get a column***"
   ]
  },
  {
   "cell_type": "code",
   "execution_count": 17,
   "id": "12802595-1fe3-4d4f-a753-36b35c4fe0e3",
   "metadata": {
    "tags": []
   },
   "outputs": [
    {
     "name": "stdout",
     "output_type": "stream",
     "text": [
      "[[ 1  2  3  4  5  6  7]\n",
      " [ 8  9 10 11 12 13 14]]\n"
     ]
    }
   ],
   "source": [
    "print(a)"
   ]
  },
  {
   "cell_type": "code",
   "execution_count": 18,
   "id": "0fd02dcd-4547-4041-8eb6-2ee6685ed5ce",
   "metadata": {
    "tags": []
   },
   "outputs": [
    {
     "name": "stdout",
     "output_type": "stream",
     "text": [
      "[ 3 10]\n"
     ]
    }
   ],
   "source": [
    "print(a[:,2])"
   ]
  },
  {
   "cell_type": "markdown",
   "id": "6e84490b-26aa-4e89-a48c-4a8f71651e62",
   "metadata": {},
   "source": [
    "---\n",
    "\n",
    "<br>\n",
    "\n",
    "> **printing the column as an array of vectors (each element is a vector)**<br>\n",
    "> *Just to appear vertically*"
   ]
  },
  {
   "cell_type": "code",
   "execution_count": 19,
   "id": "5caabc76-fc60-4d10-93e0-14e2943b8f73",
   "metadata": {
    "tags": []
   },
   "outputs": [
    {
     "name": "stdout",
     "output_type": "stream",
     "text": [
      "[[ 3]\n",
      " [10]]\n"
     ]
    }
   ],
   "source": [
    "print(a[:,2:3])"
   ]
  },
  {
   "cell_type": "markdown",
   "id": "abbee30f-9f3a-4dfe-9f8d-091674249ac6",
   "metadata": {},
   "source": [
    "- *This prints one column as the end of the range is exclusive*"
   ]
  },
  {
   "cell_type": "markdown",
   "id": "a591c2e2-0fad-47c0-8849-52f6a39e0d57",
   "metadata": {},
   "source": [
    "---\n",
    "\n",
    "<br>\n",
    "\n",
    "> ***Changing elements***\n",
    "\n",
    "- *Element*"
   ]
  },
  {
   "cell_type": "code",
   "execution_count": 20,
   "id": "25d26b70-13a6-4ea5-a1ae-5c18e3380f39",
   "metadata": {
    "tags": []
   },
   "outputs": [
    {
     "name": "stdout",
     "output_type": "stream",
     "text": [
      "[[ 1  2  3  4  5  6  7]\n",
      " [ 8  9 10 11 12 13 14]]\n"
     ]
    }
   ],
   "source": [
    "print(a)"
   ]
  },
  {
   "cell_type": "code",
   "execution_count": 21,
   "id": "b8c85e16-085e-4397-9014-b655ba207d8a",
   "metadata": {
    "tags": []
   },
   "outputs": [],
   "source": [
    "a[0,0] = 0"
   ]
  },
  {
   "cell_type": "code",
   "execution_count": 22,
   "id": "2f22fc35-a3f7-4ce2-83ae-ef70614c8781",
   "metadata": {
    "tags": []
   },
   "outputs": [
    {
     "name": "stdout",
     "output_type": "stream",
     "text": [
      "[[ 0  2  3  4  5  6  7]\n",
      " [ 8  9 10 11 12 13 14]]\n"
     ]
    }
   ],
   "source": [
    "print(a)"
   ]
  },
  {
   "cell_type": "markdown",
   "id": "10b4cca2-11d5-4ba1-bc73-1ae648bc59d1",
   "metadata": {},
   "source": [
    "- *row*"
   ]
  },
  {
   "cell_type": "code",
   "execution_count": 23,
   "id": "93e0b6e0-28ad-4bf6-b3a0-6cf4b21ed3be",
   "metadata": {
    "tags": []
   },
   "outputs": [],
   "source": [
    "a[0,:] = [1,1,1,1,1,1,1]"
   ]
  },
  {
   "cell_type": "code",
   "execution_count": 24,
   "id": "c681c028-283e-436d-8de5-d6fd1669d19d",
   "metadata": {
    "tags": []
   },
   "outputs": [
    {
     "name": "stdout",
     "output_type": "stream",
     "text": [
      "[[ 1  1  1  1  1  1  1]\n",
      " [ 8  9 10 11 12 13 14]]\n"
     ]
    }
   ],
   "source": [
    "print(a)"
   ]
  },
  {
   "cell_type": "markdown",
   "id": "934411f4-6160-4b25-a59a-06000c4d3364",
   "metadata": {},
   "source": [
    "- *column*"
   ]
  },
  {
   "cell_type": "code",
   "execution_count": 25,
   "id": "4756d1ba-43df-4bfd-b791-7202a01010d0",
   "metadata": {
    "tags": []
   },
   "outputs": [],
   "source": [
    "a[:,-1] = [99,99]"
   ]
  },
  {
   "cell_type": "code",
   "execution_count": 26,
   "id": "518df893-64d2-4b2c-a7bd-fce45d7803f6",
   "metadata": {
    "tags": []
   },
   "outputs": [
    {
     "name": "stdout",
     "output_type": "stream",
     "text": [
      "[[ 1  1  1  1  1  1 99]\n",
      " [ 8  9 10 11 12 13 99]]\n"
     ]
    }
   ],
   "source": [
    "print(a)"
   ]
  },
  {
   "cell_type": "markdown",
   "id": "76562ad8-f851-46ac-ac28-e60158711c0e",
   "metadata": {},
   "source": [
    "---\n",
    "\n",
    "<br>\n",
    "\n"
   ]
  },
  {
   "cell_type": "markdown",
   "id": "ea63b0c2-eabf-48a1-a3d8-9940496673f2",
   "metadata": {},
   "source": [
    "> ***Slicing the array as you want***"
   ]
  },
  {
   "cell_type": "code",
   "execution_count": 27,
   "id": "28a0d354-c46f-4704-b614-d8814d873b8a",
   "metadata": {
    "tags": []
   },
   "outputs": [
    {
     "name": "stdout",
     "output_type": "stream",
     "text": [
      "[[ 1  1  1  1  1  1 99]\n",
      " [ 8  9 10 11 12 13 99]]\n"
     ]
    }
   ],
   "source": [
    "print(a)"
   ]
  },
  {
   "cell_type": "markdown",
   "id": "cfd73f5c-95f8-42c3-8277-784411ec3634",
   "metadata": {},
   "source": [
    "- *Printing columns from stant to end with step of 2 (columns of indexes 0, 2, 4, 6)*"
   ]
  },
  {
   "cell_type": "code",
   "execution_count": 28,
   "id": "04b5f252-97ce-4991-8ba4-bdf6235fd26e",
   "metadata": {
    "tags": []
   },
   "outputs": [
    {
     "name": "stdout",
     "output_type": "stream",
     "text": [
      "[[ 1  1  1 99]\n",
      " [ 8 10 12 99]]\n"
     ]
    }
   ],
   "source": [
    "print(a[:,::2])"
   ]
  },
  {
   "cell_type": "markdown",
   "id": "72824b31-f026-4c8d-baad-20443a07c7ee",
   "metadata": {},
   "source": [
    "---\n",
    "\n",
    "<br>"
   ]
  },
  {
   "cell_type": "markdown",
   "id": "274b6bc5-70b7-4947-b4da-95d9109a5b4f",
   "metadata": {
    "jp-MarkdownHeadingCollapsed": true,
    "tags": []
   },
   "source": [
    "### ***Initializing different types of arrays***"
   ]
  },
  {
   "cell_type": "markdown",
   "id": "4f9beb8b-aee7-4733-99e9-029c3beea134",
   "metadata": {},
   "source": [
    "<br>\n",
    "\n",
    "> ***array of zeros***"
   ]
  },
  {
   "cell_type": "code",
   "execution_count": 29,
   "id": "03e763b4-9eb3-4b45-a441-5d527327f226",
   "metadata": {
    "tags": []
   },
   "outputs": [],
   "source": [
    "a = np.zeros([2,3])"
   ]
  },
  {
   "cell_type": "code",
   "execution_count": 30,
   "id": "d7334b0a-0582-464d-9889-b77b2a6f3844",
   "metadata": {
    "tags": []
   },
   "outputs": [
    {
     "name": "stdout",
     "output_type": "stream",
     "text": [
      "[[0. 0. 0.]\n",
      " [0. 0. 0.]]\n"
     ]
    }
   ],
   "source": [
    "print(a)"
   ]
  },
  {
   "cell_type": "markdown",
   "id": "3ba9b9b9-bb77-472a-acf2-9d80196709ad",
   "metadata": {},
   "source": [
    "---\n",
    "\n",
    "<br>\n",
    "\n",
    "> ***array of ones***"
   ]
  },
  {
   "cell_type": "code",
   "execution_count": 31,
   "id": "e9e02a05-fd48-451c-aea5-bd88b8a0e459",
   "metadata": {
    "tags": []
   },
   "outputs": [],
   "source": [
    "b = np.ones([3,3])"
   ]
  },
  {
   "cell_type": "code",
   "execution_count": 32,
   "id": "ff32024c-c70d-4685-837c-c155b8ef3b9e",
   "metadata": {
    "tags": []
   },
   "outputs": [
    {
     "name": "stdout",
     "output_type": "stream",
     "text": [
      "[[1. 1. 1.]\n",
      " [1. 1. 1.]\n",
      " [1. 1. 1.]]\n"
     ]
    }
   ],
   "source": [
    "print(b)"
   ]
  },
  {
   "cell_type": "markdown",
   "id": "ad0f0026-8b57-4367-bbb4-3c01dbf30520",
   "metadata": {},
   "source": [
    "---\n",
    "\n",
    "<br>\n",
    "\n",
    "> ***array of some value***"
   ]
  },
  {
   "cell_type": "code",
   "execution_count": 33,
   "id": "99c92aa2-2f23-4cb7-a293-10205df77448",
   "metadata": {
    "tags": []
   },
   "outputs": [],
   "source": [
    "c = np.full([2,3], 99)"
   ]
  },
  {
   "cell_type": "code",
   "execution_count": 34,
   "id": "0e0dd2df-65c6-49bb-8893-7e91010d94a9",
   "metadata": {
    "tags": []
   },
   "outputs": [
    {
     "name": "stdout",
     "output_type": "stream",
     "text": [
      "[[99 99 99]\n",
      " [99 99 99]]\n"
     ]
    }
   ],
   "source": [
    "print(c)"
   ]
  },
  {
   "cell_type": "markdown",
   "id": "4374e375-7092-4fc1-bc79-8366a35f4a70",
   "metadata": {},
   "source": [
    "---\n",
    "\n",
    "<br>"
   ]
  },
  {
   "cell_type": "markdown",
   "id": "03e0feb9-5a97-4331-8ff6-0712877c09ae",
   "metadata": {},
   "source": [
    "> ***array of random decimal***"
   ]
  },
  {
   "cell_type": "code",
   "execution_count": 35,
   "id": "541c3582-c2b9-44b2-8038-867198cab83a",
   "metadata": {
    "tags": []
   },
   "outputs": [],
   "source": [
    "a = np.random.rand(2,3)"
   ]
  },
  {
   "cell_type": "code",
   "execution_count": 36,
   "id": "e5e3197a-daca-468a-87cb-d96a75a2b89c",
   "metadata": {
    "tags": []
   },
   "outputs": [
    {
     "name": "stdout",
     "output_type": "stream",
     "text": [
      "[[0.42481091 0.25461945 0.29050177]\n",
      " [0.71099493 0.63597401 0.21129687]]\n"
     ]
    }
   ],
   "source": [
    "print(a)"
   ]
  },
  {
   "cell_type": "markdown",
   "id": "5886715b-a303-4de3-a124-fd1e8b1573a2",
   "metadata": {},
   "source": [
    "---\n",
    "\n",
    "<br>\n",
    "\n",
    "> ***Create an array with random decimal values with dimensions of a given array***"
   ]
  },
  {
   "cell_type": "code",
   "execution_count": 37,
   "id": "868876fe-24ca-47a1-9a5e-c38cb3cd1901",
   "metadata": {
    "tags": []
   },
   "outputs": [
    {
     "name": "stdout",
     "output_type": "stream",
     "text": [
      "[[6.72277430e-01 8.32640800e-01 2.66381897e-01]\n",
      " [5.88116013e-01 4.04148570e-04 3.96861137e-01]\n",
      " [4.13057710e-01 7.55530961e-02 6.57569051e-01]]\n"
     ]
    }
   ],
   "source": [
    "b = np.array([[1,2,3],[4,5,6],[7,8,9]])\n",
    "print(np.random.random_sample(b.shape))"
   ]
  },
  {
   "cell_type": "markdown",
   "id": "046ec09a-7502-4f97-a6a2-4b89a9df1bec",
   "metadata": {},
   "source": [
    "---\n",
    "\n",
    "<br>\n",
    "\n",
    "> ***random ints***<br>\n",
    "\n",
    "- *Statrs with 0 by defualt, end is exclusive*"
   ]
  },
  {
   "cell_type": "code",
   "execution_count": 38,
   "id": "bb28c893-114e-4ba7-9ddf-a8bb077f4720",
   "metadata": {
    "tags": []
   },
   "outputs": [],
   "source": [
    "a = np.random.randint(10, size=(3,3))"
   ]
  },
  {
   "cell_type": "code",
   "execution_count": 39,
   "id": "12f27b83-0cba-4a21-b93d-f139b8de3f50",
   "metadata": {
    "tags": []
   },
   "outputs": [
    {
     "name": "stdout",
     "output_type": "stream",
     "text": [
      "[[3 3 5]\n",
      " [9 1 0]\n",
      " [0 4 5]]\n"
     ]
    }
   ],
   "source": [
    "print(a)"
   ]
  },
  {
   "cell_type": "markdown",
   "id": "608a5115-ed73-4f61-8b11-24953d8361ab",
   "metadata": {},
   "source": [
    "<br>\n",
    "\n",
    "- *start with 4*"
   ]
  },
  {
   "cell_type": "code",
   "execution_count": 40,
   "id": "acd7334c-e4d2-4b51-ae11-5a21835e3d09",
   "metadata": {
    "tags": []
   },
   "outputs": [
    {
     "name": "stdout",
     "output_type": "stream",
     "text": [
      "[[4 6 4]\n",
      " [4 6 4]]\n"
     ]
    }
   ],
   "source": [
    "print(np.random.randint(4,9,size = (2,3)))"
   ]
  },
  {
   "cell_type": "markdown",
   "id": "a3e19be8-bdf0-4bff-8453-e094b45c6ce3",
   "metadata": {},
   "source": [
    "<br>\n",
    "\n",
    "- *start with a -ve number*"
   ]
  },
  {
   "cell_type": "code",
   "execution_count": 41,
   "id": "68ba3892-39f7-4121-8a31-32c0534da230",
   "metadata": {
    "tags": []
   },
   "outputs": [
    {
     "name": "stdout",
     "output_type": "stream",
     "text": [
      "[[ 1 -5  1]\n",
      " [ 1 -2  4]]\n"
     ]
    }
   ],
   "source": [
    "print(np.random.randint(-5,5,size = (2,3)))"
   ]
  },
  {
   "cell_type": "markdown",
   "id": "b65dfaf2-e108-4301-a991-e4ba456c4ebe",
   "metadata": {},
   "source": [
    "---\n",
    "\n",
    "<br>\n",
    "\n",
    "> ***The Idendity matrix***"
   ]
  },
  {
   "cell_type": "code",
   "execution_count": 42,
   "id": "d7792bbc-25d7-4978-a7cc-d51485a6c7b9",
   "metadata": {
    "tags": []
   },
   "outputs": [
    {
     "name": "stdout",
     "output_type": "stream",
     "text": [
      "[[1. 0. 0.]\n",
      " [0. 1. 0.]\n",
      " [0. 0. 1.]]\n"
     ]
    }
   ],
   "source": [
    "print(np.identity(3))"
   ]
  },
  {
   "cell_type": "markdown",
   "id": "1ad81853-75b5-4db3-a60f-80665e9b2068",
   "metadata": {},
   "source": [
    "<br>"
   ]
  },
  {
   "cell_type": "code",
   "execution_count": 43,
   "id": "6008ac95-1bc1-4fbd-beef-3a16ef3a10aa",
   "metadata": {
    "tags": []
   },
   "outputs": [
    {
     "name": "stdout",
     "output_type": "stream",
     "text": [
      "[[1. 0. 0. 0. 0.]\n",
      " [0. 1. 0. 0. 0.]\n",
      " [0. 0. 1. 0. 0.]\n",
      " [0. 0. 0. 1. 0.]\n",
      " [0. 0. 0. 0. 1.]]\n"
     ]
    }
   ],
   "source": [
    "print(np.identity(5))"
   ]
  },
  {
   "cell_type": "markdown",
   "id": "f1d54c4a-3945-451c-aede-23037cd81ed7",
   "metadata": {},
   "source": [
    "---\n",
    "\n",
    "<br>\n",
    "\n",
    "> ***repeating***"
   ]
  },
  {
   "cell_type": "code",
   "execution_count": 44,
   "id": "6f72d941-470c-4085-a410-e392cda83634",
   "metadata": {
    "tags": []
   },
   "outputs": [
    {
     "name": "stdout",
     "output_type": "stream",
     "text": [
      "[[1 2 3]]\n"
     ]
    }
   ],
   "source": [
    "a = np.array([[1,2,3]])\n",
    "print(a)"
   ]
  },
  {
   "cell_type": "markdown",
   "id": "04e0cd02-74e5-4ea6-ae30-1bf44b0125d0",
   "metadata": {},
   "source": [
    "- *Note: a is a multidimensional array .. this allows us to repeate the row to make many rows*\n",
    "\n",
    "<br>"
   ]
  },
  {
   "cell_type": "code",
   "execution_count": 45,
   "id": "bc57b26a-620c-4ea1-b23d-36733f136d26",
   "metadata": {
    "tags": []
   },
   "outputs": [],
   "source": [
    "r = np.repeat(a,3)"
   ]
  },
  {
   "cell_type": "code",
   "execution_count": 46,
   "id": "bf015d2e-ec7a-48cc-a3b1-0d21186681fe",
   "metadata": {
    "tags": []
   },
   "outputs": [
    {
     "name": "stdout",
     "output_type": "stream",
     "text": [
      "[1 1 1 2 2 2 3 3 3]\n"
     ]
    }
   ],
   "source": [
    "print(r)"
   ]
  },
  {
   "cell_type": "markdown",
   "id": "7a9e9a95-7cdb-46a7-b890-57f86fd470d4",
   "metadata": {},
   "source": [
    "- *This repeated the \"a\" but not as hoped*\n",
    "\n",
    "<br>"
   ]
  },
  {
   "cell_type": "code",
   "execution_count": 47,
   "id": "2dbd8636-3831-4b6e-9f7c-49eaafe5d5e3",
   "metadata": {
    "tags": []
   },
   "outputs": [],
   "source": [
    "r = np.repeat(a,3, axis = 0)"
   ]
  },
  {
   "cell_type": "code",
   "execution_count": 48,
   "id": "7a8fdcef-e5de-45d0-b8a1-467d8db93fcf",
   "metadata": {
    "tags": []
   },
   "outputs": [
    {
     "name": "stdout",
     "output_type": "stream",
     "text": [
      "[[1 2 3]\n",
      " [1 2 3]\n",
      " [1 2 3]]\n"
     ]
    }
   ],
   "source": [
    "print(r)"
   ]
  },
  {
   "cell_type": "markdown",
   "id": "9a502c88-0ea0-4d7a-b720-0172f32ee868",
   "metadata": {},
   "source": [
    "- *Naaaice*\n",
    "\n",
    "---\n",
    "\n",
    "<br>"
   ]
  },
  {
   "cell_type": "markdown",
   "id": "980abe43-c5e9-4ec8-941a-fe441487d764",
   "metadata": {},
   "source": [
    "> **Creating this array**\n",
    "\n",
    "[[1 1 1 1 1]<br>\n",
    " [1 0 0 0 1]<br>\n",
    " [1 0 9 0 1]<br>\n",
    " [1 0 0 0 1]<br>\n",
    " [1 1 1 1 1]]<Br>"
   ]
  },
  {
   "cell_type": "code",
   "execution_count": 49,
   "id": "9e6c07c6-3ea4-49c8-8964-d710ccf60131",
   "metadata": {
    "tags": []
   },
   "outputs": [],
   "source": [
    "a = np.ones((5,5))"
   ]
  },
  {
   "cell_type": "code",
   "execution_count": 50,
   "id": "a4ba1755-3687-4933-95f9-ab8b94649668",
   "metadata": {
    "tags": []
   },
   "outputs": [
    {
     "name": "stdout",
     "output_type": "stream",
     "text": [
      "[[1. 1. 1. 1. 1.]\n",
      " [1. 1. 1. 1. 1.]\n",
      " [1. 1. 1. 1. 1.]\n",
      " [1. 1. 1. 1. 1.]\n",
      " [1. 1. 1. 1. 1.]]\n"
     ]
    }
   ],
   "source": [
    "print(a)"
   ]
  },
  {
   "cell_type": "markdown",
   "id": "7804f0c2-4487-43b1-9995-8a7b8260e763",
   "metadata": {},
   "source": [
    "<br>"
   ]
  },
  {
   "cell_type": "code",
   "execution_count": 51,
   "id": "5affb531-b5aa-45c4-b09b-66ee1a353950",
   "metadata": {
    "tags": []
   },
   "outputs": [],
   "source": [
    "a[1:-1,1:-1] = 0"
   ]
  },
  {
   "cell_type": "code",
   "execution_count": 52,
   "id": "d136b291-e15d-485a-83d4-340dcdcd374c",
   "metadata": {
    "tags": []
   },
   "outputs": [
    {
     "name": "stdout",
     "output_type": "stream",
     "text": [
      "[[1. 1. 1. 1. 1.]\n",
      " [1. 0. 0. 0. 1.]\n",
      " [1. 0. 0. 0. 1.]\n",
      " [1. 0. 0. 0. 1.]\n",
      " [1. 1. 1. 1. 1.]]\n"
     ]
    }
   ],
   "source": [
    "print(a)"
   ]
  },
  {
   "cell_type": "markdown",
   "id": "458617d5-b84b-49e8-8edf-f38374a82e24",
   "metadata": {},
   "source": [
    "<br>"
   ]
  },
  {
   "cell_type": "code",
   "execution_count": 53,
   "id": "1b690500-bf55-4f5e-b918-ab9df54e6e48",
   "metadata": {
    "tags": []
   },
   "outputs": [],
   "source": [
    "a[2,2] = 9"
   ]
  },
  {
   "cell_type": "code",
   "execution_count": 54,
   "id": "604452f5-4ff3-43ac-8f3c-8cc9aa4319ad",
   "metadata": {
    "tags": []
   },
   "outputs": [
    {
     "name": "stdout",
     "output_type": "stream",
     "text": [
      "[[1. 1. 1. 1. 1.]\n",
      " [1. 0. 0. 0. 1.]\n",
      " [1. 0. 9. 0. 1.]\n",
      " [1. 0. 0. 0. 1.]\n",
      " [1. 1. 1. 1. 1.]]\n"
     ]
    }
   ],
   "source": [
    "print(a)"
   ]
  },
  {
   "cell_type": "markdown",
   "id": "5791f21d-8f20-46c3-8948-f30e31a296e7",
   "metadata": {},
   "source": [
    "---\n",
    "\n",
    "<br>"
   ]
  },
  {
   "cell_type": "markdown",
   "id": "45dd7ca6-a83c-4c4c-9e9d-8d1ae411e8c0",
   "metadata": {
    "jp-MarkdownHeadingCollapsed": true,
    "tags": []
   },
   "source": [
    "### ***Copying arrays***"
   ]
  },
  {
   "cell_type": "code",
   "execution_count": 55,
   "id": "7a6d3628-818d-4f99-8d93-300acebf0ca1",
   "metadata": {
    "tags": []
   },
   "outputs": [],
   "source": [
    "a = np.array([1,2,3])"
   ]
  },
  {
   "cell_type": "code",
   "execution_count": 56,
   "id": "999147e3-ac20-492d-b35e-9f9d2df561b6",
   "metadata": {
    "tags": []
   },
   "outputs": [],
   "source": [
    "b = a"
   ]
  },
  {
   "cell_type": "code",
   "execution_count": 57,
   "id": "f436e8da-073b-473e-be0c-95036664674b",
   "metadata": {
    "tags": []
   },
   "outputs": [],
   "source": [
    "b[0] = 0"
   ]
  },
  {
   "cell_type": "code",
   "execution_count": 58,
   "id": "135c64f7-40fb-46cd-8b98-b4c5ace7affc",
   "metadata": {
    "tags": []
   },
   "outputs": [
    {
     "name": "stdout",
     "output_type": "stream",
     "text": [
      "[0 2 3]\n"
     ]
    }
   ],
   "source": [
    "print(a)"
   ]
  },
  {
   "cell_type": "code",
   "execution_count": 59,
   "id": "408bd2f5-277a-4300-96ed-2beab8c51333",
   "metadata": {
    "tags": []
   },
   "outputs": [],
   "source": [
    "c = a.copy()"
   ]
  },
  {
   "cell_type": "code",
   "execution_count": 60,
   "id": "11478e0a-2910-4689-9e3f-40aaabf579f4",
   "metadata": {
    "tags": []
   },
   "outputs": [],
   "source": [
    "c[1] = 50"
   ]
  },
  {
   "cell_type": "code",
   "execution_count": 61,
   "id": "c20e0d48-cbe2-4a31-a570-590bb31515f6",
   "metadata": {
    "tags": []
   },
   "outputs": [
    {
     "name": "stdout",
     "output_type": "stream",
     "text": [
      "[ 0 50  3]\n",
      "[0 2 3]\n"
     ]
    }
   ],
   "source": [
    "print(c)\n",
    "print(a)"
   ]
  },
  {
   "cell_type": "markdown",
   "id": "1fef7821-7cdd-4f83-9f90-b51f27d74da5",
   "metadata": {},
   "source": [
    "---\n",
    "\n",
    "<br>"
   ]
  },
  {
   "cell_type": "markdown",
   "id": "ee67276d-4a89-415f-9a33-8b74630fc57a",
   "metadata": {
    "tags": []
   },
   "source": [
    "### ***Mathematics***"
   ]
  },
  {
   "cell_type": "markdown",
   "id": "2413f697",
   "metadata": {},
   "source": [
    "<br>\n",
    "\n",
    "> ***Element-wise operation***"
   ]
  },
  {
   "cell_type": "code",
   "execution_count": 62,
   "id": "81e2230f",
   "metadata": {},
   "outputs": [
    {
     "name": "stdout",
     "output_type": "stream",
     "text": [
      "[3 4 5 6 7]\n",
      "[1 2 3 4 5]\n",
      "[ 2  4  6  8 10]\n"
     ]
    }
   ],
   "source": [
    "a = np.array([1,2,3,4,5])\n",
    "a += 2\n",
    "print(a)\n",
    "a -= 2\n",
    "print(a)\n",
    "a *= 2\n",
    "print(a)"
   ]
  },
  {
   "cell_type": "markdown",
   "id": "58898898",
   "metadata": {},
   "source": [
    "---\n",
    "\n",
    "<br>"
   ]
  },
  {
   "cell_type": "markdown",
   "id": "77e49207",
   "metadata": {},
   "source": [
    "> ***Take SIN of all values***"
   ]
  },
  {
   "cell_type": "code",
   "execution_count": 63,
   "id": "e33f457d",
   "metadata": {},
   "outputs": [
    {
     "name": "stdout",
     "output_type": "stream",
     "text": [
      "[ 0.90929743 -0.7568025  -0.2794155   0.98935825 -0.54402111]\n"
     ]
    }
   ],
   "source": [
    "sins = np.sin(a)\n",
    "print(sins)"
   ]
  },
  {
   "cell_type": "markdown",
   "id": "b490c637-376b-49b4-a14a-a4624bea2c36",
   "metadata": {},
   "source": [
    "---\n",
    "\n",
    "<br>\n",
    "\n",
    "> ***Linear algebra***"
   ]
  },
  {
   "cell_type": "code",
   "execution_count": 65,
   "id": "e8145e54-239c-4ed8-8ab4-4235b57222e8",
   "metadata": {
    "tags": []
   },
   "outputs": [],
   "source": [
    "a = np.ones((2,3))\n",
    "b = np.full((3,2), 2)"
   ]
  },
  {
   "cell_type": "code",
   "execution_count": 69,
   "id": "51a097dc-b384-4843-b0af-85799d7fce7e",
   "metadata": {
    "tags": []
   },
   "outputs": [
    {
     "name": "stdout",
     "output_type": "stream",
     "text": [
      "[[1. 1. 1.]\n",
      " [1. 1. 1.]]\n",
      "\n",
      "[[2 2]\n",
      " [2 2]\n",
      " [2 2]]\n"
     ]
    },
    {
     "data": {
      "text/plain": [
       "array([[6., 6.],\n",
       "       [6., 6.]])"
      ]
     },
     "execution_count": 69,
     "metadata": {},
     "output_type": "execute_result"
    }
   ],
   "source": [
    "print(a)\n",
    "print()\n",
    "print(b)\n",
    "np.matmul(a,b)"
   ]
  },
  {
   "cell_type": "markdown",
   "id": "1d8442b3-552b-4687-86ee-b50ec2907e27",
   "metadata": {},
   "source": [
    "---\n",
    "\n",
    "<br>\n",
    "\n",
    "> ***Find the determinant***"
   ]
  },
  {
   "cell_type": "code",
   "execution_count": 71,
   "id": "d0481acd-9398-4193-8a28-7b80779cb879",
   "metadata": {
    "tags": []
   },
   "outputs": [
    {
     "name": "stdout",
     "output_type": "stream",
     "text": [
      "[[3. 0. 0.]\n",
      " [0. 3. 0.]\n",
      " [0. 0. 3.]]\n",
      "\n",
      "27.0\n"
     ]
    }
   ],
   "source": [
    "a = np.identity(3)*3\n",
    "print(a)\n",
    "print()\n",
    "print(np.linalg.det(a))"
   ]
  },
  {
   "cell_type": "markdown",
   "id": "651c5991-d5f2-46f7-99ec-9070db9a008d",
   "metadata": {},
   "source": [
    "---\n",
    "\n",
    "<br>"
   ]
  },
  {
   "cell_type": "markdown",
   "id": "cab7cb3f-0258-4387-8e14-a1c5c2ba220a",
   "metadata": {
    "tags": []
   },
   "source": [
    "### ***Statistics***"
   ]
  },
  {
   "cell_type": "markdown",
   "id": "635d06ef-b96f-4e6a-8143-82d536984d4d",
   "metadata": {},
   "source": [
    "<br>\n",
    "\n",
    "> min and max"
   ]
  },
  {
   "cell_type": "code",
   "execution_count": 72,
   "id": "c3c4a3d8-91ba-4b38-9ab8-723c9e740c05",
   "metadata": {
    "tags": []
   },
   "outputs": [],
   "source": [
    "st = np.array([[1,2,3,4,5],[6,7,8,9,10]])"
   ]
  },
  {
   "cell_type": "code",
   "execution_count": 73,
   "id": "d6e0a8db-5b94-4602-a4d8-a7debd457361",
   "metadata": {
    "tags": []
   },
   "outputs": [
    {
     "data": {
      "text/plain": [
       "1"
      ]
     },
     "execution_count": 73,
     "metadata": {},
     "output_type": "execute_result"
    }
   ],
   "source": [
    "np.min(st)"
   ]
  },
  {
   "cell_type": "code",
   "execution_count": 74,
   "id": "7c246840-4e98-434a-ba29-9fb74546f669",
   "metadata": {
    "tags": []
   },
   "outputs": [
    {
     "data": {
      "text/plain": [
       "10"
      ]
     },
     "execution_count": 74,
     "metadata": {},
     "output_type": "execute_result"
    }
   ],
   "source": [
    "np.max(st)"
   ]
  },
  {
   "cell_type": "markdown",
   "id": "ccef297d-4034-47e6-a225-f70e2fd02c9b",
   "metadata": {},
   "source": [
    "<br>\n",
    "\n",
    "- get the min or max in a row or a column"
   ]
  },
  {
   "cell_type": "code",
   "execution_count": 79,
   "id": "766fd22a-320c-4c38-96b3-7e96d9176c01",
   "metadata": {
    "tags": []
   },
   "outputs": [
    {
     "data": {
      "text/plain": [
       "array([[ 1,  2,  3,  4,  5],\n",
       "       [ 6,  7,  8,  9, 10]])"
      ]
     },
     "execution_count": 79,
     "metadata": {},
     "output_type": "execute_result"
    }
   ],
   "source": [
    "st"
   ]
  },
  {
   "cell_type": "code",
   "execution_count": 80,
   "id": "1b105b3d-c961-4b90-88ba-4e87bcece067",
   "metadata": {
    "tags": []
   },
   "outputs": [
    {
     "data": {
      "text/plain": [
       "array([ 5, 10])"
      ]
     },
     "execution_count": 80,
     "metadata": {},
     "output_type": "execute_result"
    }
   ],
   "source": [
    "np.max(st, axis=1) # max of each row"
   ]
  },
  {
   "cell_type": "code",
   "execution_count": 81,
   "id": "3e78fd4a-55a3-486d-ac6b-e4e98ea1f488",
   "metadata": {
    "tags": []
   },
   "outputs": [
    {
     "data": {
      "text/plain": [
       "array([ 6,  7,  8,  9, 10])"
      ]
     },
     "execution_count": 81,
     "metadata": {},
     "output_type": "execute_result"
    }
   ],
   "source": [
    "np.max(st, axis=0) # max of each column"
   ]
  },
  {
   "cell_type": "markdown",
   "id": "3b915192-fca9-4025-b1c0-c9fa5b9e0c60",
   "metadata": {},
   "source": [
    "---\n",
    "\n",
    "<br>\n",
    "\n",
    "> Sum (all - row - columns)"
   ]
  },
  {
   "cell_type": "code",
   "execution_count": 82,
   "id": "ceecd666-d316-441c-81a6-9c79368df22e",
   "metadata": {
    "tags": []
   },
   "outputs": [
    {
     "data": {
      "text/plain": [
       "array([[ 1,  2,  3,  4,  5],\n",
       "       [ 6,  7,  8,  9, 10]])"
      ]
     },
     "execution_count": 82,
     "metadata": {},
     "output_type": "execute_result"
    }
   ],
   "source": [
    "st"
   ]
  },
  {
   "cell_type": "markdown",
   "id": "bafb1d44-0c6f-40d7-bfa3-69ef8f723dca",
   "metadata": {},
   "source": [
    "<br>\n",
    "\n",
    "- all elements"
   ]
  },
  {
   "cell_type": "code",
   "execution_count": 83,
   "id": "59221ac0-6ba2-402d-8cd6-0fec80d71485",
   "metadata": {
    "tags": []
   },
   "outputs": [
    {
     "data": {
      "text/plain": [
       "55"
      ]
     },
     "execution_count": 83,
     "metadata": {},
     "output_type": "execute_result"
    }
   ],
   "source": [
    "np.sum(st)"
   ]
  },
  {
   "cell_type": "markdown",
   "id": "51092ed6-0bca-4a1d-8c23-4f23a9e74c71",
   "metadata": {},
   "source": [
    "- sum of each row"
   ]
  },
  {
   "cell_type": "code",
   "execution_count": 84,
   "id": "2a9a84c4-2697-4e1a-9a1d-661690d2e72e",
   "metadata": {
    "tags": []
   },
   "outputs": [
    {
     "data": {
      "text/plain": [
       "array([15, 40])"
      ]
     },
     "execution_count": 84,
     "metadata": {},
     "output_type": "execute_result"
    }
   ],
   "source": [
    "np.sum(st, axis=1)"
   ]
  },
  {
   "cell_type": "markdown",
   "id": "fcda266a-7b14-460a-8fec-38647e45302d",
   "metadata": {},
   "source": [
    "<br>\n",
    "\n",
    "- sum of each column"
   ]
  },
  {
   "cell_type": "code",
   "execution_count": 85,
   "id": "8eaa6ef8-dae7-433d-8a10-032d8b314e02",
   "metadata": {
    "tags": []
   },
   "outputs": [
    {
     "data": {
      "text/plain": [
       "array([ 7,  9, 11, 13, 15])"
      ]
     },
     "execution_count": 85,
     "metadata": {},
     "output_type": "execute_result"
    }
   ],
   "source": [
    "np.sum(st, axis=0)"
   ]
  },
  {
   "cell_type": "markdown",
   "id": "664b4a82-24e1-4168-ae56-1b0a23b71c38",
   "metadata": {},
   "source": [
    "---\n",
    "\n",
    "<br>\n",
    "\n",
    "- Stopped [**here**](https://www.youtube.com/watch?v=QUT1VHiLmmI&t=1s&ab_channel=freeCodeCamp.org)"
   ]
  },
  {
   "cell_type": "code",
   "execution_count": null,
   "id": "7a59ab16-7134-4136-b3fa-eae291c968a3",
   "metadata": {},
   "outputs": [],
   "source": []
  }
 ],
 "metadata": {
  "kernelspec": {
   "display_name": "Python 3 (ipykernel)",
   "language": "python",
   "name": "python3"
  },
  "language_info": {
   "codemirror_mode": {
    "name": "ipython",
    "version": 3
   },
   "file_extension": ".py",
   "mimetype": "text/x-python",
   "name": "python",
   "nbconvert_exporter": "python",
   "pygments_lexer": "ipython3",
   "version": "3.11.3"
  }
 },
 "nbformat": 4,
 "nbformat_minor": 5
}
