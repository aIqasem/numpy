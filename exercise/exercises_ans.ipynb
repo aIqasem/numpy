{
 "cells": [
  {
   "attachments": {},
   "cell_type": "markdown",
   "id": "7d328ac3-8f32-4e9f-b9f6-9d0212c01380",
   "metadata": {},
   "source": [
    "- ( **1** ) _Importing numpy_"
   ]
  },
  {
   "cell_type": "code",
   "execution_count": 164,
   "id": "c225bdce-bac1-4055-adb9-f1a38cce9727",
   "metadata": {},
   "outputs": [],
   "source": [
    "import numpy as np"
   ]
  },
  {
   "attachments": {},
   "cell_type": "markdown",
   "id": "600f4163-1aec-49e8-b487-8778c4a93a87",
   "metadata": {},
   "source": [
    "---\n",
    "\n",
    "<br>\n",
    "<br>\n",
    "\n",
    "### **_Create Array_**\n",
    "\n",
    "- ( **2** ) _Create an array that contains numbers from 1 to 10._"
   ]
  },
  {
   "cell_type": "code",
   "execution_count": 165,
   "id": "6fbd98e4-d42e-4a70-bdf2-694e41faf2ca",
   "metadata": {},
   "outputs": [
    {
     "data": {
      "text/plain": [
       "array([ 1,  2,  3,  4,  5,  6,  7,  8,  9, 10])"
      ]
     },
     "execution_count": 165,
     "metadata": {},
     "output_type": "execute_result"
    }
   ],
   "source": [
    "num1to10 = np.array([1,2,3,4,5,6,7,8,9,10])\n",
    "num1to10"
   ]
  },
  {
   "attachments": {},
   "cell_type": "markdown",
   "id": "8bb5ff79-c804-4d22-9ac1-355be9f5b31a",
   "metadata": {},
   "source": [
    "<br>"
   ]
  },
  {
   "cell_type": "code",
   "execution_count": 166,
   "id": "dc74be33-bd0a-4b4b-adec-07baf86f56ce",
   "metadata": {},
   "outputs": [
    {
     "data": {
      "text/plain": [
       "array([ 1,  2,  3,  4,  5,  6,  7,  8,  9, 10])"
      ]
     },
     "execution_count": 166,
     "metadata": {},
     "output_type": "execute_result"
    }
   ],
   "source": [
    "num1to10 = np.arange(1,11)\n",
    "num1to10"
   ]
  },
  {
   "attachments": {},
   "cell_type": "markdown",
   "id": "9c841b61-648b-4a98-848b-242c9dbe1671",
   "metadata": {},
   "source": [
    "---\n",
    "\n",
    "<br>\n",
    "\n",
    "- ( **3** ) _Create the following array._<br>\n",
    "\n",
    "```[[15, 12, 9, 22],```<br>\n",
    "```[21, 7, 10, 14], ```<br>\n",
    "```[31, 10, 33, 8]] ```<br>"
   ]
  },
  {
   "cell_type": "code",
   "execution_count": 167,
   "id": "ef5d6d78-eaa2-4456-85b4-fe2554967f77",
   "metadata": {},
   "outputs": [
    {
     "data": {
      "text/plain": [
       "array([[15, 12,  9, 22],\n",
       "       [21,  7, 10, 14],\n",
       "       [31, 10, 33,  8]])"
      ]
     },
     "execution_count": 167,
     "metadata": {},
     "output_type": "execute_result"
    }
   ],
   "source": [
    "copy = np.array([[15, 12, 9, 22],[21, 7, 10, 14], [31, 10, 33, 8]])\n",
    "copy"
   ]
  },
  {
   "attachments": {},
   "cell_type": "markdown",
   "id": "b19a06b7-c518-4295-8ad7-079109c39148",
   "metadata": {},
   "source": [
    "---\n",
    "\n",
    "<br>\n",
    "\n",
    "- ( **4** ) _Create an array full of zeros and of shape (2,3)._"
   ]
  },
  {
   "attachments": {},
   "cell_type": "markdown",
   "id": "91e22917-a730-4397-b9ce-8f57594424ec",
   "metadata": {},
   "source": [
    "\n",
    "    Solution 1"
   ]
  },
  {
   "cell_type": "code",
   "execution_count": 168,
   "id": "e3c537e9-38b5-403b-abc8-399fc53327d5",
   "metadata": {},
   "outputs": [
    {
     "data": {
      "text/plain": [
       "array([[0., 0., 0.],\n",
       "       [0., 0., 0.]])"
      ]
     },
     "execution_count": 168,
     "metadata": {},
     "output_type": "execute_result"
    }
   ],
   "source": [
    "a = np.zeros((2,3))\n",
    "a"
   ]
  },
  {
   "attachments": {},
   "cell_type": "markdown",
   "id": "1b3d578e-2bff-4deb-8d2d-b01ddcbc229a",
   "metadata": {},
   "source": [
    "<br>\n",
    "\n",
    "    Solution 2"
   ]
  },
  {
   "cell_type": "code",
   "execution_count": 169,
   "id": "c40ac0e0-1301-4880-9934-c5b93aac7a0a",
   "metadata": {},
   "outputs": [
    {
     "name": "stdout",
     "output_type": "stream",
     "text": [
      "[[1 2 3]\n",
      " [4 5 6]]\n",
      "\n",
      "[[0 0 0]\n",
      " [0 0 0]]\n"
     ]
    }
   ],
   "source": [
    "a = np.array([[1,2,3],[4,5,6]])\n",
    "print(a)\n",
    "b = np.zeros_like(a)\n",
    "print()\n",
    "print(b)"
   ]
  },
  {
   "attachments": {},
   "cell_type": "markdown",
   "id": "d428a47c-f467-46ff-87bc-a578a5b8d27d",
   "metadata": {},
   "source": [
    "---\n",
    "\n",
    "<br>\n",
    "\n",
    "- ( **5** ) Create an array that contains odd numbers from 1 to 1000."
   ]
  },
  {
   "cell_type": "code",
   "execution_count": 170,
   "id": "0a7fceab-0aa7-4ab2-8607-b38a20fa83de",
   "metadata": {},
   "outputs": [],
   "source": [
    "array1to1000 = np.arange(1,1001)\n",
    "odd1to1000 = array1to1000[array1to1000 % 2 == 1]\n",
    "#print(odd1to1000)"
   ]
  },
  {
   "attachments": {},
   "cell_type": "markdown",
   "id": "0fc245a4-bd21-4019-ab12-ea86279f50c3",
   "metadata": {},
   "source": [
    "---\n",
    "\n",
    "<br>\n",
    "<br>\n",
    "\n",
    "### **_Array Details_**\n",
    "\n",
    "- ( **6** ) _Making a 3D array_"
   ]
  },
  {
   "cell_type": "code",
   "execution_count": 171,
   "id": "877f47fe-a303-4572-8209-540c6609cf63",
   "metadata": {},
   "outputs": [
    {
     "name": "stdout",
     "output_type": "stream",
     "text": [
      "[[[1 1]\n",
      "  [1 1]]\n",
      "\n",
      " [[1 1]\n",
      "  [1 1]]]\n"
     ]
    }
   ],
   "source": [
    "a3d = np.ones((2,2,2))\n",
    "a3d = a3d.astype(int)\n",
    "print(a3d)"
   ]
  },
  {
   "attachments": {},
   "cell_type": "markdown",
   "id": "3e3ffda9-0af0-4933-8bb6-77671213434c",
   "metadata": {},
   "source": [
    "---\n",
    "\n",
    "<br>\n",
    "\n",
    "- ( **7** ) _Show dimension._"
   ]
  },
  {
   "cell_type": "code",
   "execution_count": 172,
   "id": "55e53b32-1f3a-46c4-85c8-061828b14caf",
   "metadata": {},
   "outputs": [
    {
     "name": "stdout",
     "output_type": "stream",
     "text": [
      "3\n"
     ]
    }
   ],
   "source": [
    "print(a3d.ndim)"
   ]
  },
  {
   "attachments": {},
   "cell_type": "markdown",
   "id": "38ce4523-3ab7-4d0d-8747-91971d11c2d6",
   "metadata": {},
   "source": [
    "---\n",
    "\n",
    "<br>\n",
    "\n",
    "\n",
    "\n",
    "- ( **8** ) _What is the difference between shape and size?_<br>\n",
    "    > Explain with words and with code."
   ]
  },
  {
   "attachments": {},
   "cell_type": "markdown",
   "id": "c2fdc332-8bce-4131-9be1-a1c9a5ca91e8",
   "metadata": {},
   "source": [
    "\n",
    "    - Shape: returns a tuple representing the dimensions of the array. For example, an array with 3 rows and 4 columns would have a shape of (3, 4).<br>\n",
    "\n",
    "    - Size: returns the total number of elements in the array. In the above example, the size of the array would be 12."
   ]
  },
  {
   "cell_type": "code",
   "execution_count": 173,
   "id": "5b8c76f2-9294-4d50-9080-e8fa3bc62e99",
   "metadata": {},
   "outputs": [
    {
     "name": "stdout",
     "output_type": "stream",
     "text": [
      "Shape of array: (3, 4)\n",
      "Size of array: 12\n"
     ]
    }
   ],
   "source": [
    "# Create a 2D array\n",
    "arr = np.array([[1, 2, 3, 4], [5, 6, 7, 8], [9, 10, 11, 12]])\n",
    "\n",
    "# Print the shape of the array\n",
    "print(\"Shape of array:\", arr.shape)\n",
    "\n",
    "# Print the size of the array\n",
    "print(\"Size of array:\", arr.size)"
   ]
  },
  {
   "attachments": {},
   "cell_type": "markdown",
   "id": "fab8fddd-3ef0-4ec4-9371-8eaf40f5805d",
   "metadata": {},
   "source": [
    "---\n",
    "\n",
    "<br>\n",
    "<br>\n",
    "\n",
    "\n",
    "### **_Indexing & Slicing_**\n",
    "\n",
    "- ( **9** ) _Get the value of the element in the first row and second column._"
   ]
  },
  {
   "cell_type": "code",
   "execution_count": 174,
   "id": "b844beb7-1e27-4943-816a-c05e82e68c97",
   "metadata": {},
   "outputs": [],
   "source": [
    "np.random.seed(42)\n",
    "arr = np.random.randn(3, 3)"
   ]
  },
  {
   "attachments": {},
   "cell_type": "markdown",
   "id": "c085e42b-678d-4f0c-accc-c34d45d04611",
   "metadata": {},
   "source": [
    "    Solution"
   ]
  },
  {
   "cell_type": "code",
   "execution_count": 175,
   "id": "f90629f5-ead1-4276-9fa1-301eba964f01",
   "metadata": {},
   "outputs": [
    {
     "name": "stdout",
     "output_type": "stream",
     "text": [
      "[[ 0.49671415 -0.1382643   0.64768854]\n",
      " [ 1.52302986 -0.23415337 -0.23413696]\n",
      " [ 1.57921282  0.76743473 -0.46947439]] \n",
      "\n",
      "-0.13826430117118466\n"
     ]
    }
   ],
   "source": [
    "print(arr,\"\\n\")\n",
    "print(arr[(0,1)])"
   ]
  },
  {
   "attachments": {},
   "cell_type": "markdown",
   "id": "94e9cfff-6ab7-4afa-85d7-ce6bb2efebd2",
   "metadata": {},
   "source": [
    "---\n",
    "\n",
    "<br>\n",
    "\n",
    "- ( **10** ) _Get the first 2 rows._"
   ]
  },
  {
   "cell_type": "code",
   "execution_count": 176,
   "id": "71232f4d-b63d-4d05-b79a-9a150f8e753e",
   "metadata": {},
   "outputs": [],
   "source": [
    "np.random.seed(42)\n",
    "arr = np.random.randn(3, 3)"
   ]
  },
  {
   "attachments": {},
   "cell_type": "markdown",
   "id": "ffa0e733-a932-4444-847c-534918a973f8",
   "metadata": {},
   "source": [
    "    Solution"
   ]
  },
  {
   "cell_type": "code",
   "execution_count": 177,
   "id": "e02ea83b-5053-4dfd-ab54-1b351c1dd566",
   "metadata": {},
   "outputs": [
    {
     "name": "stdout",
     "output_type": "stream",
     "text": [
      "[[ 0.49671415 -0.1382643   0.64768854]\n",
      " [ 1.52302986 -0.23415337 -0.23413696]\n",
      " [ 1.57921282  0.76743473 -0.46947439]] \n",
      "\n",
      "[[ 0.49671415 -0.1382643   0.64768854]\n",
      " [ 1.52302986 -0.23415337 -0.23413696]]\n"
     ]
    }
   ],
   "source": [
    "print(arr,\"\\n\")\n",
    "print(arr[0:2])"
   ]
  },
  {
   "attachments": {},
   "cell_type": "markdown",
   "id": "41783063-26e3-4243-b656-ac45b9dab08f",
   "metadata": {},
   "source": [
    "---\n",
    "\n",
    "<br>\n",
    "\n",
    "- ( **11** ) _Change the shape of the array to be (2, 6) and print the new shape._"
   ]
  },
  {
   "cell_type": "code",
   "execution_count": 178,
   "id": "676c1560-43dc-4115-bf8f-c85a384ddb21",
   "metadata": {},
   "outputs": [],
   "source": [
    "np.random.seed(42)\n",
    "arr = np.random.randn(4, 3)"
   ]
  },
  {
   "attachments": {},
   "cell_type": "markdown",
   "id": "3f45d5ac-e85e-4357-8249-fd56b9b532df",
   "metadata": {},
   "source": [
    "    Solution"
   ]
  },
  {
   "cell_type": "code",
   "execution_count": 179,
   "id": "d8075d10-d815-409e-8a2f-0a06df75fc2f",
   "metadata": {},
   "outputs": [
    {
     "name": "stdout",
     "output_type": "stream",
     "text": [
      "[[ 0.49671415 -0.1382643   0.64768854]\n",
      " [ 1.52302986 -0.23415337 -0.23413696]\n",
      " [ 1.57921282  0.76743473 -0.46947439]\n",
      " [ 0.54256004 -0.46341769 -0.46572975]] \n",
      "\n"
     ]
    },
    {
     "data": {
      "text/plain": [
       "array([[ 0.49671415, -0.1382643 ,  0.64768854,  1.52302986, -0.23415337,\n",
       "        -0.23413696],\n",
       "       [ 1.57921282,  0.76743473, -0.46947439,  0.54256004, -0.46341769,\n",
       "        -0.46572975]])"
      ]
     },
     "execution_count": 179,
     "metadata": {},
     "output_type": "execute_result"
    }
   ],
   "source": [
    "print(arr,\"\\n\")\n",
    "arr.reshape(2,6)"
   ]
  },
  {
   "attachments": {},
   "cell_type": "markdown",
   "id": "04437a46-51c7-46bc-899d-3e556a01265d",
   "metadata": {},
   "source": [
    "---\n",
    "\n",
    "<br>\n",
    "<br>\n",
    "\n",
    "### **_NumPy common functions_**\n",
    "\n",
    "- ( **12** ) _Flat the following array._"
   ]
  },
  {
   "cell_type": "code",
   "execution_count": 180,
   "id": "35efcfcf-db08-4aa7-b5cb-073b92b27787",
   "metadata": {},
   "outputs": [],
   "source": [
    "arr = np.array([[i, 2*i, 3*i] for i in range(3, 300)])"
   ]
  },
  {
   "attachments": {},
   "cell_type": "markdown",
   "id": "dd020fb5-63ce-4c66-8150-a36a70080e50",
   "metadata": {},
   "source": [
    "    Solution"
   ]
  },
  {
   "cell_type": "code",
   "execution_count": 181,
   "id": "e546f038-d375-4102-a8ab-714360993cd7",
   "metadata": {},
   "outputs": [
    {
     "name": "stdout",
     "output_type": "stream",
     "text": [
      "[[ 3  6  9]\n",
      " [ 4  8 12]\n",
      " [ 5 10 15]\n",
      " [ 6 12 18]\n",
      " [ 7 14 21]\n",
      " [ 8 16 24]\n",
      " [ 9 18 27]\n",
      " [10 20 30]\n",
      " [11 22 33]\n",
      " [12 24 36]\n",
      " [13 26 39]]\n"
     ]
    }
   ],
   "source": [
    "# Printing first 10 rows of array\n",
    "print(arr[0:11])"
   ]
  },
  {
   "cell_type": "code",
   "execution_count": 182,
   "id": "1460ac19-6496-45ce-9ce1-5b6e289efb3a",
   "metadata": {},
   "outputs": [
    {
     "name": "stdout",
     "output_type": "stream",
     "text": [
      "[ 3  6  9  4  8 12  5 10 15  6 12]\n"
     ]
    }
   ],
   "source": [
    "# Flattened array\n",
    "flattened_arr = arr.flatten()\n",
    "\n",
    "# Printing the first 10 elements of the Flattened array\n",
    "print(flattened_arr[0:11])"
   ]
  },
  {
   "attachments": {},
   "cell_type": "markdown",
   "id": "3b820d69-5e1c-4e6a-9a76-d76078bf0568",
   "metadata": {},
   "source": [
    "    The output is a one-dimensional array containing all the elements of the original array flattened into a single row.\n",
    "\n",
    "---\n",
    "\n",
    "<br>\n",
    "<br>\n",
    "\n",
    "- ( **13** ) _Transpose the following array._"
   ]
  },
  {
   "cell_type": "code",
   "execution_count": 183,
   "id": "95e79dfa-8c79-4b88-98b9-be1de0109397",
   "metadata": {},
   "outputs": [],
   "source": [
    "arr = np.array([[[[j, j + 1] for j in range(5)]] for i in range(3)])"
   ]
  },
  {
   "attachments": {},
   "cell_type": "markdown",
   "id": "0fea1de6-8cc4-4a20-bfde-f911b2524aed",
   "metadata": {},
   "source": [
    "    Solution"
   ]
  },
  {
   "cell_type": "code",
   "execution_count": 184,
   "id": "14f59de6-e21f-4939-92ba-06b367ef5718",
   "metadata": {},
   "outputs": [
    {
     "name": "stdout",
     "output_type": "stream",
     "text": [
      "[[[[0 1]\n",
      "   [1 2]\n",
      "   [2 3]\n",
      "   [3 4]\n",
      "   [4 5]]]\n",
      "\n",
      "\n",
      " [[[0 1]\n",
      "   [1 2]\n",
      "   [2 3]\n",
      "   [3 4]\n",
      "   [4 5]]]\n",
      "\n",
      "\n",
      " [[[0 1]\n",
      "   [1 2]\n",
      "   [2 3]\n",
      "   [3 4]\n",
      "   [4 5]]]]\n",
      "\n",
      "Shape:  (3, 1, 5, 2)\n"
     ]
    }
   ],
   "source": [
    "print(arr)\n",
    "print(\"\\nShape: \", arr.shape)"
   ]
  },
  {
   "attachments": {},
   "cell_type": "markdown",
   "id": "bc6d150e-88b4-48b6-959a-00ab1c72b79a",
   "metadata": {},
   "source": [
    "<br>\n",
    "\n",
    "    lol, this shape is weird .. lets just transpose it and go to the next question"
   ]
  },
  {
   "cell_type": "code",
   "execution_count": 185,
   "id": "8cbb216d-f171-43bf-bd5e-759947662b96",
   "metadata": {},
   "outputs": [
    {
     "name": "stdout",
     "output_type": "stream",
     "text": [
      "[[[[0 0 0]]\n",
      "\n",
      "  [[1 1 1]]\n",
      "\n",
      "  [[2 2 2]]\n",
      "\n",
      "  [[3 3 3]]\n",
      "\n",
      "  [[4 4 4]]]\n",
      "\n",
      "\n",
      " [[[1 1 1]]\n",
      "\n",
      "  [[2 2 2]]\n",
      "\n",
      "  [[3 3 3]]\n",
      "\n",
      "  [[4 4 4]]\n",
      "\n",
      "  [[5 5 5]]]]\n"
     ]
    }
   ],
   "source": [
    "t_arr = arr.transpose()\n",
    "print(t_arr)"
   ]
  },
  {
   "attachments": {},
   "cell_type": "markdown",
   "id": "e1bef579-943f-41e9-8404-e1e4329a6daf",
   "metadata": {},
   "source": [
    "---\n",
    "\n",
    "<br>\n",
    "\n",
    "- ( **14** ) _How many unique values are in the following array and print them._"
   ]
  },
  {
   "cell_type": "code",
   "execution_count": 186,
   "id": "3df671ee-58bd-4f67-82cd-d76f32cd8b55",
   "metadata": {},
   "outputs": [],
   "source": [
    "countries = np.array(['canada','spain','india','usa','canada','england','japan','germany','india','england','egypt','england','japan','egypt','india','japan'\n",
    "                     ,'china','germany','india','china','canada','india','canada''egypt','china','germany','japan','russia'\n",
    "                    ,'england','usa','germany','china','russia''germany''china','spain''spain','canada','germany','spain',\n",
    "                    'china','canada','china''canada','germany','russia','japan','india','russia','egypt', 'canada',\n",
    "                    'spain','india','usa','canada','england','japan','germany','india','england','egypt','england','japan',\n",
    "                    'egypt','india','japan','china','germany','india','china','canada','india','canada''egypt','china','germany','japan','russia'\n",
    "                      ,'england','usa','germany','china','russia''germany''china','spain''spain','canada','germany','spain',\n",
    "                      'china','canada','china''canada','germany','russia','japan','india','russia','egypt'])"
   ]
  },
  {
   "attachments": {},
   "cell_type": "markdown",
   "id": "6b206059-f7e5-422b-a72b-33842015e604",
   "metadata": {},
   "source": [
    "    Solution 1"
   ]
  },
  {
   "cell_type": "code",
   "execution_count": 187,
   "id": "5da3a8cf-05f8-427b-a1c9-98b39c5d76c9",
   "metadata": {},
   "outputs": [
    {
     "name": "stdout",
     "output_type": "stream",
     "text": [
      "['canada' 'canadaegypt' 'china' 'chinacanada' 'egypt' 'england' 'germany'\n",
      " 'india' 'japan' 'russia' 'russiagermanychina' 'spain' 'spainspain' 'usa']\n"
     ]
    }
   ],
   "source": [
    "print(np.unique(countries))"
   ]
  },
  {
   "attachments": {},
   "cell_type": "markdown",
   "id": "6881ecca-378c-4277-a5d8-f05a4f4d7337",
   "metadata": {},
   "source": [
    "    Solution 2 (Using Python Set)"
   ]
  },
  {
   "cell_type": "code",
   "execution_count": 188,
   "id": "641dda26-d859-43c3-ba84-2b5a645baafe",
   "metadata": {},
   "outputs": [
    {
     "name": "stdout",
     "output_type": "stream",
     "text": [
      "{'england', 'egypt', 'russia', 'india', 'germany', 'usa', 'spain', 'japan', 'spainspain', 'canada', 'china', 'canadaegypt', 'russiagermanychina', 'chinacanada'}\n"
     ]
    }
   ],
   "source": [
    "countries_set = set(countries)\n",
    "print(countries_set)"
   ]
  },
  {
   "attachments": {},
   "cell_type": "markdown",
   "id": "6a88bc45-4a57-406f-870d-43fa72ff76f3",
   "metadata": {},
   "source": [
    "---\n",
    "\n",
    "<br>\n",
    "\n",
    "- ( **15** ) _Sort the following array._"
   ]
  },
  {
   "cell_type": "code",
   "execution_count": 189,
   "id": "1f5762f6-8e66-4f0b-9f33-1bf8b50434ba",
   "metadata": {},
   "outputs": [],
   "source": [
    "np.random.seed(42)\n",
    "arr = np.random.randn(50)"
   ]
  },
  {
   "attachments": {},
   "cell_type": "markdown",
   "id": "aa23fb42-bc0f-401b-b47b-c5b167f03218",
   "metadata": {},
   "source": [
    "    Solution"
   ]
  },
  {
   "cell_type": "code",
   "execution_count": 190,
   "id": "edb2836d-5b25-42b8-a73b-d8984ac2db1a",
   "metadata": {},
   "outputs": [
    {
     "name": "stdout",
     "output_type": "stream",
     "text": [
      "\n",
      "array:\n",
      "\n",
      " [ 0.49671415 -0.1382643   0.64768854  1.52302986 -0.23415337 -0.23413696\n",
      "  1.57921282  0.76743473 -0.46947439  0.54256004 -0.46341769 -0.46572975\n",
      "  0.24196227 -1.91328024 -1.72491783 -0.56228753 -1.01283112  0.31424733\n",
      " -0.90802408 -1.4123037   1.46564877 -0.2257763   0.0675282  -1.42474819\n",
      " -0.54438272  0.11092259 -1.15099358  0.37569802 -0.60063869 -0.29169375\n",
      " -0.60170661  1.85227818 -0.01349722 -1.05771093  0.82254491 -1.22084365\n",
      "  0.2088636  -1.95967012 -1.32818605  0.19686124  0.73846658  0.17136828\n",
      " -0.11564828 -0.3011037  -1.47852199 -0.71984421 -0.46063877  1.05712223\n",
      "  0.34361829 -1.76304016]\n",
      "\n",
      "\n",
      "Sorted array:\n",
      "\n",
      " [-1.95967012 -1.91328024 -1.76304016 -1.72491783 -1.47852199 -1.42474819\n",
      " -1.4123037  -1.32818605 -1.22084365 -1.15099358 -1.05771093 -1.01283112\n",
      " -0.90802408 -0.71984421 -0.60170661 -0.60063869 -0.56228753 -0.54438272\n",
      " -0.46947439 -0.46572975 -0.46341769 -0.46063877 -0.3011037  -0.29169375\n",
      " -0.23415337 -0.23413696 -0.2257763  -0.1382643  -0.11564828 -0.01349722\n",
      "  0.0675282   0.11092259  0.17136828  0.19686124  0.2088636   0.24196227\n",
      "  0.31424733  0.34361829  0.37569802  0.49671415  0.54256004  0.64768854\n",
      "  0.73846658  0.76743473  0.82254491  1.05712223  1.46564877  1.52302986\n",
      "  1.57921282  1.85227818]\n"
     ]
    }
   ],
   "source": [
    "print(\"\\narray:\\n\\n\", arr)\n",
    "print(\"\\n\\nSorted array:\\n\\n\", np.sort(arr))"
   ]
  },
  {
   "attachments": {},
   "cell_type": "markdown",
   "id": "57e3ff27-d884-4d84-9551-54a89f7e48ea",
   "metadata": {},
   "source": [
    "---\n",
    "\n",
    "<br>\n",
    "<br>\n",
    "\n",
    "### **_Statistics_**\n",
    "\n",
    "- ( **16** ) _Calculate the following._"
   ]
  },
  {
   "cell_type": "code",
   "execution_count": 191,
   "id": "b2cfe8f5-8931-4335-a6de-66866cd1a3d8",
   "metadata": {},
   "outputs": [],
   "source": [
    "np.random.seed(42)\n",
    "arr = np.random.randn(5,4)\n",
    "# write your code here\n",
    "# mean = \n",
    "# median = \n",
    "# sum =\n",
    "# variance = \n",
    "# std = "
   ]
  },
  {
   "attachments": {},
   "cell_type": "markdown",
   "id": "9a31bc23-baf8-4b7e-8074-d6074ff57df8",
   "metadata": {},
   "source": [
    "    Solution"
   ]
  },
  {
   "cell_type": "code",
   "execution_count": 192,
   "id": "002c14b8-04b2-4fe3-9e60-14cac4f80a1b",
   "metadata": {},
   "outputs": [
    {
     "name": "stdout",
     "output_type": "stream",
     "text": [
      "\n",
      "array:\n",
      "\n",
      " [[ 0.49671415 -0.1382643   0.64768854  1.52302986]\n",
      " [-0.23415337 -0.23413696  1.57921282  0.76743473]\n",
      " [-0.46947439  0.54256004 -0.46341769 -0.46572975]\n",
      " [ 0.24196227 -1.91328024 -1.72491783 -0.56228753]\n",
      " [-1.01283112  0.31424733 -0.90802408 -1.4123037 ]] \n",
      "\n",
      "Shape: (5, 4)\n",
      "mean: -0.17129856144182892\n",
      "median: -0.23414516583625827\n",
      "sum: -3.4259712288365787\n",
      "variance: 0.8755718414721738\n",
      "standeard deviation: 0.9357199588937781\n"
     ]
    }
   ],
   "source": [
    "print(\"\\narray:\\n\\n\", arr, \"\\n\\nShape:\", arr.shape)\n",
    "\n",
    "print(\"mean:\",np.mean(arr))\n",
    "print(\"median:\",np.median(arr))\n",
    "print(\"sum:\",np.sum(arr))\n",
    "print(\"variance:\",np.var(arr))\n",
    "print(\"standeard deviation:\",np.std(arr))"
   ]
  },
  {
   "attachments": {},
   "cell_type": "markdown",
   "id": "1b9112df-270e-4c6f-9e89-eb113dec872d",
   "metadata": {},
   "source": [
    "---\n",
    "\n",
    "<br>\n",
    "<br>\n",
    "\n",
    "### _**Maths**_\n",
    "\n",
    "- ( **17** ) _Calculate the following._"
   ]
  },
  {
   "cell_type": "code",
   "execution_count": 193,
   "id": "8926a8ed-562c-400e-b66c-ad9158cd69ee",
   "metadata": {},
   "outputs": [],
   "source": [
    "np.random.seed(42)\n",
    "arr = np.random.randn(5, 4)\n",
    "# max = \n",
    "# min = \n",
    "# sqrt = \n",
    "# abs = "
   ]
  },
  {
   "attachments": {},
   "cell_type": "markdown",
   "id": "78d4f2ac-a835-47db-bbce-8b9d7e101279",
   "metadata": {},
   "source": [
    "    Solution\n",
    "    max and min"
   ]
  },
  {
   "cell_type": "code",
   "execution_count": 194,
   "id": "902c7db1-0c48-45cc-80f6-32a0a906aa6c",
   "metadata": {},
   "outputs": [
    {
     "name": "stdout",
     "output_type": "stream",
     "text": [
      "\n",
      "array:\n",
      "\n",
      " [[ 0.49671415 -0.1382643   0.64768854  1.52302986]\n",
      " [-0.23415337 -0.23413696  1.57921282  0.76743473]\n",
      " [-0.46947439  0.54256004 -0.46341769 -0.46572975]\n",
      " [ 0.24196227 -1.91328024 -1.72491783 -0.56228753]\n",
      " [-1.01283112  0.31424733 -0.90802408 -1.4123037 ]]\n",
      "\n",
      "max: 1.5792128155073915\n",
      "min: -1.913280244657798\n"
     ]
    }
   ],
   "source": [
    "print(\"\\narray:\\n\\n\",arr)\n",
    "print(\"\\nmax:\",np.max(arr))\n",
    "print(\"min:\",np.min(arr))"
   ]
  },
  {
   "attachments": {},
   "cell_type": "markdown",
   "id": "be3c26b6-94b1-4038-ab0a-ddc1c9b0df49",
   "metadata": {},
   "source": [
    "    Sqrt"
   ]
  },
  {
   "cell_type": "code",
   "execution_count": 195,
   "id": "316a9633-319c-41f1-8e19-60bc359b243e",
   "metadata": {},
   "outputs": [
    {
     "name": "stdout",
     "output_type": "stream",
     "text": [
      "\n",
      "squar .. oh by the way, do you know why four (4) was afraid? .. because it was too (2) scared .. ok never mind .. back to our code\n",
      "\n",
      "Sqrt: [0.70477951 0.80479099 1.23411096 1.25666734 0.87603352 0.73658675\n",
      " 0.49189661 0.56057768]\n",
      "\n",
      "\n",
      "\n",
      "Second way\n",
      "negative indexes:\n",
      "[(0, 1), (1, 0), (1, 1), (2, 0), (2, 2), (2, 3), (3, 1), (3, 2), (3, 3), (4, 0), (4, 2), (4, 3)]\n",
      "\n",
      "sqrt: [[ 0.70477951 -0.37183908  0.80479099  1.23411096]\n",
      " [-0.48389397 -0.48387701  1.25666734  0.87603352]\n",
      " [-0.68518201  0.73658675 -0.68074789 -0.68244396]\n",
      " [ 0.49189661 -1.38321374 -1.31336127 -0.74985834]\n",
      " [-1.00639511  0.56057768 -0.95290297 -1.18840385]]\n"
     ]
    }
   ],
   "source": [
    "# these dumb -ve values seems to be annoying, let's get rid of it\n",
    "sqrt = np.sqrt(arr[arr > 0])\n",
    "print(\"\\nsquar .. oh by the way, do you know why four (4) was afraid? .. because it was too (2) scared .. ok never mind .. back to our code\\n\\nSqrt:\", sqrt)\n",
    "\n",
    "\n",
    "# or make some tricky stuff\n",
    "# i will get the square root of the abs(arr), and then add a negative sign to the index where the arr was negative\n",
    "\n",
    "# Getting the numpy array in a list\n",
    "l = list(arr)\n",
    "# this list is a list of lists .. each row is a list\n",
    "\n",
    "# Getting the negative indexes as a list of tuples (tuples because this is a 2D array)\n",
    "l_negative_indexes = []\n",
    "for i in range(len(l)):\n",
    "    for j in range(len(l[i])):\n",
    "        if l[i][j] < 0:\n",
    "            l_negative_indexes.append((i,j))\n",
    "print(\"\\n\\n\\nSecond way\\nnegative indexes:\")\n",
    "print(l_negative_indexes)\n",
    "\n",
    "# Getting the sqrt of the abs(arr)\n",
    "sqrt_arr = np.sqrt(np.abs(arr))\n",
    "\n",
    "# putting -ve sign before the indexes that were negative in the original arr\n",
    "for i in l_negative_indexes:\n",
    "    sqrt_arr[i[0]][i[1]] = -sqrt_arr[i[0]][i[1]]\n",
    "\n",
    "# Printing the final result\n",
    "print(\"\\nsqrt:\",sqrt_arr)\n"
   ]
  },
  {
   "attachments": {},
   "cell_type": "markdown",
   "id": "a0f00fa7-315c-4baa-a0e7-5eeb3589affd",
   "metadata": {},
   "source": [
    "    abs (is actually calculated but there it is)"
   ]
  },
  {
   "cell_type": "code",
   "execution_count": 196,
   "id": "797273c0-868d-488d-9a45-5ceeccd891f4",
   "metadata": {},
   "outputs": [
    {
     "name": "stdout",
     "output_type": "stream",
     "text": [
      "[[0.49671415 0.1382643  0.64768854 1.52302986]\n",
      " [0.23415337 0.23413696 1.57921282 0.76743473]\n",
      " [0.46947439 0.54256004 0.46341769 0.46572975]\n",
      " [0.24196227 1.91328024 1.72491783 0.56228753]\n",
      " [1.01283112 0.31424733 0.90802408 1.4123037 ]]\n"
     ]
    }
   ],
   "source": [
    "print(np.abs(arr))"
   ]
  },
  {
   "attachments": {},
   "cell_type": "markdown",
   "id": "e2f127a1-aca5-4026-bb02-e3f2e412e6d3",
   "metadata": {},
   "source": [
    "---\n",
    "\n",
    "<br>\n",
    "\n",
    "- ( **18** ) _What is the difference between np.dot() & np.multiply() & np.matmul._"
   ]
  },
  {
   "cell_type": "code",
   "execution_count": 197,
   "id": "ef2a1e91-b339-4e34-859a-4b468403ff97",
   "metadata": {},
   "outputs": [],
   "source": [
    "import numpy as np\n",
    "matrix1 = np.array([[1, 2], [3, 4]])\n",
    "matrix2 = np.array([[-1, 0], [-2, 4]])\n",
    "# write your code here\n",
    "\n",
    "# dot()\n",
    "\n",
    "# multiply()\n",
    "\n",
    "# matmul()"
   ]
  },
  {
   "attachments": {},
   "cell_type": "markdown",
   "id": "09831c9c-6aec-4f94-9c91-9b2d90f395e9",
   "metadata": {},
   "source": [
    "    Solution"
   ]
  },
  {
   "attachments": {},
   "cell_type": "markdown",
   "id": "f6c67dc0-9d59-41b4-bdca-16e23a0563d1",
   "metadata": {},
   "source": [
    "- `np.dot( )` :<br> is a function in Numpy that computes the dot product between two arrays. The dot product operation multiplies the corresponding elements of the two arrays and sums up the products. If the two arrays are 1-D, it returns their inner product; if the arrays are 2-D, it returns matrix multiplication."
   ]
  },
  {
   "cell_type": "code",
   "execution_count": 198,
   "id": "d7ecf5c9-ee29-40e1-a403-b443a15e7f33",
   "metadata": {},
   "outputs": [
    {
     "name": "stdout",
     "output_type": "stream",
     "text": [
      "55\n",
      "\n",
      "[[ -5   8]\n",
      " [-11  16]]\n"
     ]
    }
   ],
   "source": [
    "a = np.array([1,2,3,4,5])\n",
    "b = np.array([1,2,3,4,5])\n",
    "\n",
    "print(np.dot(a, b))\n",
    "print()\n",
    "print(np.matmul(matrix1,matrix2))"
   ]
  },
  {
   "attachments": {},
   "cell_type": "markdown",
   "id": "3486df6c-1378-4d26-9aac-bc68cdfcf47b",
   "metadata": {},
   "source": [
    "<br>\n",
    "\n",
    "- `np.matmul( )` :<br> is a function in Numpy that performs matrix multiplication between two arrays. It implements matrix multiplication by following the rules of matrix algebra, which requires the number of columns in the first matrix to be equal to the number of rows in the second matrix."
   ]
  },
  {
   "cell_type": "code",
   "execution_count": 199,
   "id": "43ad6506-19e2-47dd-9610-fd249556c930",
   "metadata": {},
   "outputs": [
    {
     "name": "stdout",
     "output_type": "stream",
     "text": [
      "[[ -5   8]\n",
      " [-11  16]]\n"
     ]
    }
   ],
   "source": [
    "print(np.matmul(matrix1,matrix2))"
   ]
  },
  {
   "attachments": {},
   "cell_type": "markdown",
   "id": "63d07996-c0b7-4d9d-ba29-e99f6728cf54",
   "metadata": {},
   "source": [
    "<br>\n",
    "\n",
    "- `np.multiply( )` :<br> is a function in Numpy that performs element-wise multiplication between two arrays of the same shape. It multiplies each corresponding element of the input arrays to produce a new array with the same shape as the input arrays."
   ]
  },
  {
   "cell_type": "code",
   "execution_count": 200,
   "id": "37c9414a-d9cb-43ff-ac11-e087c9889c99",
   "metadata": {},
   "outputs": [
    {
     "name": "stdout",
     "output_type": "stream",
     "text": [
      "[1 2 3 4 5]\n",
      "[1 2 3 4 5]\n",
      "\n",
      "[ 1  4  9 16 25]\n",
      "\n",
      "\n",
      "[[1 2]\n",
      " [3 4]]\n",
      "[[-1  0]\n",
      " [-2  4]]\n",
      "\n",
      "[[-1  0]\n",
      " [-6 16]]\n"
     ]
    }
   ],
   "source": [
    "print(a)\n",
    "print(b)\n",
    "print()\n",
    "print(np.multiply(a,b))\n",
    "print(\"\\n\")\n",
    "\n",
    "print(matrix1)\n",
    "print(matrix2)\n",
    "print()\n",
    "print(np.multiply(matrix1,matrix2))"
   ]
  },
  {
   "attachments": {},
   "cell_type": "markdown",
   "id": "62ffaf90-b72e-4d91-92d3-3fa940d634a5",
   "metadata": {},
   "source": [
    "---"
   ]
  }
 ],
 "metadata": {
  "kernelspec": {
   "display_name": "Python 3 (ipykernel)",
   "language": "python",
   "name": "python3"
  },
  "language_info": {
   "codemirror_mode": {
    "name": "ipython",
    "version": 3
   },
   "file_extension": ".py",
   "mimetype": "text/x-python",
   "name": "python",
   "nbconvert_exporter": "python",
   "pygments_lexer": "ipython3",
   "version": "3.10.9"
  }
 },
 "nbformat": 4,
 "nbformat_minor": 5
}
